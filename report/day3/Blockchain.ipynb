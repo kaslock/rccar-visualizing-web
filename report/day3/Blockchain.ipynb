{
 "cells": [
  {
   "cell_type": "code",
   "execution_count": 1,
   "metadata": {},
   "outputs": [],
   "source": [
    "from hashlib import sha256\n",
    "from datetime import datetime\n",
    "\n",
    "\n",
    "class Block:\n",
    "    def __init__(self, data, prevhash, nonce = 0):\n",
    "        self.timestamp = datetime.now()\n",
    "        self.data = data\n",
    "        self.prevhash = prevhash\n",
    "        self.nonce = nonce\n",
    "        self.hash = self.generate_hash()\n",
    "    \n",
    "    def print_block(self):\n",
    "        print('nonce: ' + str(self.nonce))\n",
    "        print('data: ' + str(self.data))\n",
    "        print('prevhash: ' + self.prevhash)\n",
    "        print('hash: ' + self.hash)\n",
    "        print()\n",
    "        \n",
    "    def generate_hash(self):\n",
    "        block_contents = str(self.timestamp) + str(self.data) + str(self.prevhash) + str(self.nonce)\n",
    "        block_hash = sha256(block_contents.encode())\n",
    "        return block_hash.hexdigest()\n",
    "    \n",
    "    def set_hash(self, proof):\n",
    "        self.hash = proof"
   ]
  },
  {
   "cell_type": "code",
   "execution_count": 2,
   "metadata": {},
   "outputs": [],
   "source": [
    "class Blockchain:\n",
    "    def __init__(self):\n",
    "        self.chain = []\n",
    "        self.all_transactions = []\n",
    "        self.genesis_block()\n",
    "    \n",
    "    def genesis_block(self):\n",
    "        transactions = 'Genesis Block'\n",
    "        block = Block(transactions, ' ')\n",
    "        block.print_block()\n",
    "        self.chain.append(block)\n",
    "        return self.chain\n",
    "    \n",
    "    def add_block(self, transactions):\n",
    "        previous_block_hash = self.chain[len(self.chain)-1].hash\n",
    "        new_block = Block(transactions, previous_block_hash)\n",
    "        proof = self.proof_of_work(new_block)\n",
    "        new_block.set_hash(proof)\n",
    "        new_block.print_block()\n",
    "        self.chain.append(new_block)\n",
    "        return proof, new_block\n",
    "    \n",
    "    def proof_of_work(self, block, difficulty=5):\n",
    "        proof = block.generate_hash()\n",
    "        \n",
    "        while proof[:5] != '0'*difficulty:\n",
    "            block.nonce += 1\n",
    "            proof = block.generate_hash()\n",
    "        return proof"
   ]
  },
  {
   "cell_type": "code",
   "execution_count": 3,
   "metadata": {},
   "outputs": [
    {
     "name": "stdout",
     "output_type": "stream",
     "text": [
      "nonce: 0\n",
      "data: Genesis Block\n",
      "prevhash:  \n",
      "hash: 8b9bf46a237624b536b15c22229833198e228850239591638086ab916bb2957f\n",
      "\n",
      "nonce: 493239\n",
      "data: 2nd\n",
      "prevhash: 8b9bf46a237624b536b15c22229833198e228850239591638086ab916bb2957f\n",
      "hash: 000001ebe2caa35c9e75e425e4379775b0e35dff180a943864e92cf81b06c791\n",
      "\n",
      "nonce: 4060625\n",
      "data: 3rd\n",
      "prevhash: 000001ebe2caa35c9e75e425e4379775b0e35dff180a943864e92cf81b06c791\n",
      "hash: 00000e0d32208061488f54219aa6255348e54ebdab1e03c21607f84133b0b4da\n",
      "\n",
      "\n"
     ]
    }
   ],
   "source": [
    "jcoin = Blockchain()\n",
    "jcoin.add_block('2nd')\n",
    "jcoin.add_block('3rd')\n",
    "print()"
   ]
  }
 ],
 "metadata": {
  "kernelspec": {
   "display_name": "Python 3",
   "language": "python",
   "name": "python3"
  },
  "language_info": {
   "codemirror_mode": {
    "name": "ipython",
    "version": 3
   },
   "file_extension": ".py",
   "mimetype": "text/x-python",
   "name": "python",
   "nbconvert_exporter": "python",
   "pygments_lexer": "ipython3",
   "version": "3.7.5"
  }
 },
 "nbformat": 4,
 "nbformat_minor": 2
}
